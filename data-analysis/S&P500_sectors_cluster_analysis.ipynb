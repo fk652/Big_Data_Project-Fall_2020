{
 "cells": [
  {
   "cell_type": "code",
   "execution_count": 31,
   "metadata": {},
   "outputs": [],
   "source": [
    "import pandas as pd\n",
    "import numpy as np \n",
    "import matplotlib.pyplot as plt\n",
    "%matplotlib inline\n",
    "import math\n",
    "from math import sqrt\n",
    "import os\n",
    "from pathlib import Path\n",
    "import sklearn\n",
    "from sklearn.cluster import KMeans\n",
    "import pylab as pl"
   ]
  },
  {
   "cell_type": "code",
   "execution_count": 32,
   "metadata": {},
   "outputs": [
    {
     "name": "stdout",
     "output_type": "stream",
     "text": [
      "['Carrier Global', 'Lumen Technologies', 'Otis Worldwide', 'ViacomCBS', 'Vontier']\n"
     ]
    }
   ],
   "source": [
    "# Identify companies with incomplete data from original S&P 500 dataset\n",
    "\n",
    "full_path = os.path.abspath(os.curdir)\n",
    "stock_data_url = str(Path(full_path).parents[0])+\"\\datasets\\Stock Data/\"\n",
    "sp_data = \"S&P_500_stock_data.csv\"\n",
    "spdata = pd.read_csv(stock_data_url + sp_data)\n",
    "\n",
    "spdata.describe()\n",
    "\n",
    "spdata1 = spdata[spdata.isna().any(axis=1)]\n",
    "print(spdata1['Name'].drop_duplicates().to_list())\n"
   ]
  },
  {
   "cell_type": "code",
   "execution_count": 33,
   "metadata": {},
   "outputs": [
    {
     "data": {
      "text/plain": [
       "Symbol               126000\n",
       "Name                 126000\n",
       "Daily Return         126000\n",
       "Log Return           126000\n",
       "Close                126000\n",
       "Adj Close            126000\n",
       "High                 126000\n",
       "Low                  126000\n",
       "Open                 126000\n",
       "Volume               126000\n",
       "GICS Sector          126000\n",
       "GICS Sub-Industry    126000\n",
       "HQ Location          126000\n",
       "Date first added     112644\n",
       "CIK                  126000\n",
       "Founded              126000\n",
       "dtype: int64"
      ]
     },
     "execution_count": 33,
     "metadata": {},
     "output_type": "execute_result"
    }
   ],
   "source": [
    "# S&P 500 Companies - Joined Stock Prces and Industries\n",
    "\n",
    "full_path = os.path.abspath(os.curdir)\n",
    "stock_data_url = str(Path(full_path).parents[0])+\"\\datasets\\Stock Data\\Spark_joins/\"\n",
    "sp_sectors = \"spjoin_sectors.csv\"\n",
    "\n",
    "\n",
    "spsec = pd.read_csv(stock_data_url + sp_sectors, header=None)\n",
    "\n",
    "spsec.columns = [\"Symbol\", \"Name\", \"Date\", \"Daily Return\", \"Log Return\", \"Close\", \"Adj Close\",\n",
    "                 \"High\", \"Low\", \"Open\", \"Volume\",\"GICS Sector\", \"GICS Sub-Industry\", \n",
    "                 \"HQ Location\", \"Date first added\", \"CIK\", \"Founded\"]\n",
    "\n",
    "spsec = spsec.set_index(['Date'])\n",
    "\n",
    "#Filter out companies with incomplete data\n",
    "incomplete = ['Carrier Global', 'Lumen Technologies', 'Otis Worldwide', 'ViacomCBS', 'Vontier']\n",
    "spsec = spsec[~spsec['Name'].isin(incomplete)] \n",
    "\n",
    "spsec.head()\n",
    "spsec.count()\n"
   ]
  },
  {
   "cell_type": "code",
   "execution_count": 34,
   "metadata": {},
   "outputs": [
    {
     "data": {
      "text/html": [
       "<div>\n",
       "<style scoped>\n",
       "    .dataframe tbody tr th:only-of-type {\n",
       "        vertical-align: middle;\n",
       "    }\n",
       "\n",
       "    .dataframe tbody tr th {\n",
       "        vertical-align: top;\n",
       "    }\n",
       "\n",
       "    .dataframe thead th {\n",
       "        text-align: right;\n",
       "    }\n",
       "</style>\n",
       "<table border=\"1\" class=\"dataframe\">\n",
       "  <thead>\n",
       "    <tr style=\"text-align: right;\">\n",
       "      <th></th>\n",
       "      <th>GICS Sub-Industry</th>\n",
       "      <th>returns</th>\n",
       "      <th>variances</th>\n",
       "    </tr>\n",
       "    <tr>\n",
       "      <th>Name</th>\n",
       "      <th></th>\n",
       "      <th></th>\n",
       "      <th></th>\n",
       "    </tr>\n",
       "  </thead>\n",
       "  <tbody>\n",
       "    <tr>\n",
       "      <th>Advance Auto Parts</th>\n",
       "      <td>Automotive Retail</td>\n",
       "      <td>-0.054710</td>\n",
       "      <td>0.471841</td>\n",
       "    </tr>\n",
       "    <tr>\n",
       "      <th>Amazon-com Inc-</th>\n",
       "      <td>Internet &amp; Direct Marketing Retail</td>\n",
       "      <td>0.587061</td>\n",
       "      <td>0.384036</td>\n",
       "    </tr>\n",
       "    <tr>\n",
       "      <th>Aptiv PLC</th>\n",
       "      <td>Auto Parts &amp; Equipment</td>\n",
       "      <td>0.174509</td>\n",
       "      <td>0.748234</td>\n",
       "    </tr>\n",
       "    <tr>\n",
       "      <th>AutoZone Inc</th>\n",
       "      <td>Specialty Stores</td>\n",
       "      <td>-0.013817</td>\n",
       "      <td>0.420143</td>\n",
       "    </tr>\n",
       "    <tr>\n",
       "      <th>Best Buy Co- Inc-</th>\n",
       "      <td>Computer &amp; Electronics Retail</td>\n",
       "      <td>0.393853</td>\n",
       "      <td>0.519512</td>\n",
       "    </tr>\n",
       "  </tbody>\n",
       "</table>\n",
       "</div>"
      ],
      "text/plain": [
       "                                     GICS Sub-Industry   returns  variances\n",
       "Name                                                                       \n",
       "Advance Auto Parts                   Automotive Retail -0.054710   0.471841\n",
       "Amazon-com Inc-     Internet & Direct Marketing Retail  0.587061   0.384036\n",
       "Aptiv PLC                       Auto Parts & Equipment  0.174509   0.748234\n",
       "AutoZone Inc                          Specialty Stores -0.013817   0.420143\n",
       "Best Buy Co- Inc-        Computer & Electronics Retail  0.393853   0.519512"
      ]
     },
     "execution_count": 34,
     "metadata": {},
     "output_type": "execute_result"
    }
   ],
   "source": [
    "#Cluster analysis for Consumer Discretionary\n",
    "spdis = spsec[spsec['GICS Sector']=='Consumer Discretionary']\n",
    "\n",
    "#Calculating annual returns and variances\n",
    "returns = spdis.groupby(['Name', 'GICS Sub-Industry']).mean()*252\n",
    "variances = spdis.groupby(['Name', 'GICS Sub-Industry']).std()*sqrt(252)\n",
    "\n",
    "returns = returns['Log Return']\n",
    "variances = variances['Log Return']\n",
    "\n",
    "clusters = pd.concat([(returns), (variances)], \n",
    "                      axis = 'columns', join = 'inner')\n",
    "\n",
    "clusters.columns = [\"returns\", \"variances\"]\n",
    "\n",
    "clusters=clusters.reset_index()\n",
    "clusters = clusters.set_index('Name')\n",
    "\n",
    "clusters.head()\n"
   ]
  },
  {
   "cell_type": "code",
   "execution_count": 35,
   "metadata": {},
   "outputs": [
    {
     "data": {
      "image/png": "[encoded data removed]",
      "text/plain": [
       "<Figure size 432x288 with 1 Axes>"
      ]
     },
     "metadata": {
      "needs_background": "light"
     },
     "output_type": "display_data"
    }
   ],
   "source": [
    "# Determining number of clusters\n",
    "\n",
    "X= clusters[['returns', 'variances']].values #converting into numpy array\n",
    "sse =[]\n",
    "for k in range (2,15):\n",
    "    kmeans = KMeans(n_clusters = k)\n",
    "    kmeans.fit(X)\n",
    "    sse.append(kmeans.inertia_)\n",
    "    \n",
    "pl.plot(range(2,15),sse)\n",
    "pl.title(\"Elbow Curve\")\n",
    "pl.show()"
   ]
  },
  {
   "cell_type": "code",
   "execution_count": 36,
   "metadata": {},
   "outputs": [
    {
     "data": {
      "image/png": "[encoded data removed]",
      "text/plain": [
       "<Figure size 432x288 with 1 Axes>"
      ]
     },
     "metadata": {
      "needs_background": "light"
     },
     "output_type": "display_data"
    }
   ],
   "source": [
    "# Plotting clusters\n",
    "\n",
    "kmeans = KMeans(n_clusters = 5).fit(X)\n",
    "centroids = kmeans.cluster_centers_\n",
    "pl.scatter(X[:,0], X[:,1],c = kmeans.labels_,cmap=\"rainbow\")\n",
    "pl.show()"
   ]
  },
  {
   "cell_type": "code",
   "execution_count": 37,
   "metadata": {},
   "outputs": [
    {
     "name": "stdout",
     "output_type": "stream",
     "text": [
      "[[ 0.01845584  0.52844165]\n",
      " [ 0.34298055  0.47820574]\n",
      " [-0.83846194  1.22677243]\n",
      " [-0.15776213  0.76616108]\n",
      " [ 0.86603084  0.82199809]]\n"
     ]
    },
    {
     "data": {
      "text/html": [
       "<div>\n",
       "<style scoped>\n",
       "    .dataframe tbody tr th:only-of-type {\n",
       "        vertical-align: middle;\n",
       "    }\n",
       "\n",
       "    .dataframe tbody tr th {\n",
       "        vertical-align: top;\n",
       "    }\n",
       "\n",
       "    .dataframe thead th {\n",
       "        text-align: right;\n",
       "    }\n",
       "</style>\n",
       "<table border=\"1\" class=\"dataframe\">\n",
       "  <thead>\n",
       "    <tr style=\"text-align: right;\">\n",
       "      <th></th>\n",
       "      <th>Group</th>\n",
       "    </tr>\n",
       "    <tr>\n",
       "      <th>Name</th>\n",
       "      <th></th>\n",
       "    </tr>\n",
       "  </thead>\n",
       "  <tbody>\n",
       "    <tr>\n",
       "      <th>Advance Auto Parts</th>\n",
       "      <td>0</td>\n",
       "    </tr>\n",
       "    <tr>\n",
       "      <th>Amazon-com Inc-</th>\n",
       "      <td>1</td>\n",
       "    </tr>\n",
       "    <tr>\n",
       "      <th>Aptiv PLC</th>\n",
       "      <td>0</td>\n",
       "    </tr>\n",
       "    <tr>\n",
       "      <th>AutoZone Inc</th>\n",
       "      <td>0</td>\n",
       "    </tr>\n",
       "    <tr>\n",
       "      <th>Best Buy Co- Inc-</th>\n",
       "      <td>1</td>\n",
       "    </tr>\n",
       "  </tbody>\n",
       "</table>\n",
       "</div>"
      ],
      "text/plain": [
       "                    Group\n",
       "Name                     \n",
       "Advance Auto Parts      0\n",
       "Amazon-com Inc-         1\n",
       "Aptiv PLC               0\n",
       "AutoZone Inc            0\n",
       "Best Buy Co- Inc-       1"
      ]
     },
     "execution_count": 37,
     "metadata": {},
     "output_type": "execute_result"
    }
   ],
   "source": [
    "# Creating datafrane with companies and corresponding cluster\n",
    "\n",
    "print(centroids)\n",
    "\n",
    "Company = pd.DataFrame(clusters.index)\n",
    "cluster_labels = pd.DataFrame(kmeans.labels_)\n",
    "df=pd.concat([Company,cluster_labels],axis=1)\n",
    "df.columns = [\"Name\",\"Group\"]\n",
    "df=df.set_index(['Name'])\n",
    "df.head()"
   ]
  },
  {
   "cell_type": "code",
   "execution_count": 38,
   "metadata": {},
   "outputs": [],
   "source": [
    "#Dataset for visualization\n",
    "\n",
    "combined = pd.concat([(clusters), (df)], \n",
    "                      axis = 'columns', join = 'inner')\n",
    "combined.head()\n",
    "combined.to_csv (r'..\\data-analysis\\consumer_discretionary_groups.csv',header=True)"
   ]
  },
  {
   "cell_type": "code",
   "execution_count": 39,
   "metadata": {},
   "outputs": [
    {
     "name": "stdout",
     "output_type": "stream",
     "text": [
      "Empty DataFrame\n",
      "Columns: []\n",
      "Index: [0, 1, 2, 3, 4]\n"
     ]
    },
    {
     "data": {
      "text/html": [
       "<div>\n",
       "<style scoped>\n",
       "    .dataframe tbody tr th:only-of-type {\n",
       "        vertical-align: middle;\n",
       "    }\n",
       "\n",
       "    .dataframe tbody tr th {\n",
       "        vertical-align: top;\n",
       "    }\n",
       "\n",
       "    .dataframe thead th {\n",
       "        text-align: right;\n",
       "    }\n",
       "</style>\n",
       "<table border=\"1\" class=\"dataframe\">\n",
       "  <thead>\n",
       "    <tr style=\"text-align: right;\">\n",
       "      <th></th>\n",
       "      <th>Group</th>\n",
       "    </tr>\n",
       "    <tr>\n",
       "      <th>Name</th>\n",
       "      <th></th>\n",
       "    </tr>\n",
       "  </thead>\n",
       "  <tbody>\n",
       "    <tr>\n",
       "      <th>Carnival Corp-</th>\n",
       "      <td>2</td>\n",
       "    </tr>\n",
       "    <tr>\n",
       "      <th>Norwegian Cruise Line Holdings</th>\n",
       "      <td>2</td>\n",
       "    </tr>\n",
       "    <tr>\n",
       "      <th>Royal Caribbean Group</th>\n",
       "      <td>2</td>\n",
       "    </tr>\n",
       "  </tbody>\n",
       "</table>\n",
       "</div>"
      ],
      "text/plain": [
       "                                Group\n",
       "Name                                 \n",
       "Carnival Corp-                      2\n",
       "Norwegian Cruise Line Holdings      2\n",
       "Royal Caribbean Group               2"
      ]
     },
     "execution_count": 39,
     "metadata": {},
     "output_type": "execute_result"
    }
   ],
   "source": [
    "# Counts and Filters\n",
    "\n",
    "print(df.groupby(\"Group\").count() )\n",
    "df.loc[df[\"Group\"] == 2]\n"
   ]
  },
  {
   "cell_type": "code",
   "execution_count": 40,
   "metadata": {},
   "outputs": [
    {
     "data": {
      "text/html": [
       "<div>\n",
       "<style scoped>\n",
       "    .dataframe tbody tr th:only-of-type {\n",
       "        vertical-align: middle;\n",
       "    }\n",
       "\n",
       "    .dataframe tbody tr th {\n",
       "        vertical-align: top;\n",
       "    }\n",
       "\n",
       "    .dataframe thead th {\n",
       "        text-align: right;\n",
       "    }\n",
       "</style>\n",
       "<table border=\"1\" class=\"dataframe\">\n",
       "  <thead>\n",
       "    <tr style=\"text-align: right;\">\n",
       "      <th></th>\n",
       "      <th>GICS Sub-Industry</th>\n",
       "      <th>returns</th>\n",
       "      <th>variances</th>\n",
       "    </tr>\n",
       "    <tr>\n",
       "      <th>Name</th>\n",
       "      <th></th>\n",
       "      <th></th>\n",
       "      <th></th>\n",
       "    </tr>\n",
       "  </thead>\n",
       "  <tbody>\n",
       "    <tr>\n",
       "      <th>AT&amp;T Inc-</th>\n",
       "      <td>Integrated Telecommunication Services</td>\n",
       "      <td>-0.312113</td>\n",
       "      <td>0.354819</td>\n",
       "    </tr>\n",
       "    <tr>\n",
       "      <th>Activision Blizzard</th>\n",
       "      <td>Interactive Home Entertainment</td>\n",
       "      <td>0.372363</td>\n",
       "      <td>0.387221</td>\n",
       "    </tr>\n",
       "    <tr>\n",
       "      <th>Alphabet Inc- (Class A)</th>\n",
       "      <td>Interactive Media &amp; Services</td>\n",
       "      <td>0.284418</td>\n",
       "      <td>0.383581</td>\n",
       "    </tr>\n",
       "    <tr>\n",
       "      <th>Alphabet Inc- (Class C)</th>\n",
       "      <td>Interactive Media &amp; Services</td>\n",
       "      <td>0.286104</td>\n",
       "      <td>0.382300</td>\n",
       "    </tr>\n",
       "    <tr>\n",
       "      <th>Charter Communications</th>\n",
       "      <td>Cable &amp; Satellite</td>\n",
       "      <td>0.308063</td>\n",
       "      <td>0.348762</td>\n",
       "    </tr>\n",
       "  </tbody>\n",
       "</table>\n",
       "</div>"
      ],
      "text/plain": [
       "                                             GICS Sub-Industry   returns  \\\n",
       "Name                                                                       \n",
       "AT&T Inc-                Integrated Telecommunication Services -0.312113   \n",
       "Activision Blizzard             Interactive Home Entertainment  0.372363   \n",
       "Alphabet Inc- (Class A)           Interactive Media & Services  0.284418   \n",
       "Alphabet Inc- (Class C)           Interactive Media & Services  0.286104   \n",
       "Charter Communications                       Cable & Satellite  0.308063   \n",
       "\n",
       "                         variances  \n",
       "Name                                \n",
       "AT&T Inc-                 0.354819  \n",
       "Activision Blizzard       0.387221  \n",
       "Alphabet Inc- (Class A)   0.383581  \n",
       "Alphabet Inc- (Class C)   0.382300  \n",
       "Charter Communications    0.348762  "
      ]
     },
     "execution_count": 40,
     "metadata": {},
     "output_type": "execute_result"
    }
   ],
   "source": [
    "#Cluster analysis for Communication Services\n",
    "spcom = spsec[spsec['GICS Sector']=='Communication Services']\n",
    "\n",
    "#Calculating annual returns and variances\n",
    "returns = spcom.groupby(['Name', 'GICS Sub-Industry']).mean()*252\n",
    "variances = spcom.groupby(['Name', 'GICS Sub-Industry']).std()*sqrt(252)\n",
    "\n",
    "returns = returns['Log Return']\n",
    "variances = variances['Log Return']\n",
    "\n",
    "clusters = pd.concat([(returns), (variances)], \n",
    "                      axis = 'columns', join = 'inner')\n",
    "\n",
    "clusters.columns = [\"returns\", \"variances\"]\n",
    "\n",
    "clusters=clusters.reset_index()\n",
    "clusters = clusters.set_index('Name')\n",
    "\n",
    "clusters.head()\n"
   ]
  },
  {
   "cell_type": "code",
   "execution_count": 41,
   "metadata": {},
   "outputs": [
    {
     "data": {
      "image/png": "[encoded data removed]",
      "text/plain": [
       "<Figure size 432x288 with 1 Axes>"
      ]
     },
     "metadata": {
      "needs_background": "light"
     },
     "output_type": "display_data"
    }
   ],
   "source": [
    "# Determining number of clusters\n",
    "\n",
    "X= clusters[['returns', 'variances']].values #converting into numpy array\n",
    "sse =[]\n",
    "for k in range (2,15):\n",
    "    kmeans = KMeans(n_clusters = k)\n",
    "    kmeans.fit(X)\n",
    "    sse.append(kmeans.inertia_)\n",
    "    \n",
    "pl.plot(range(2,15),sse)\n",
    "pl.title(\"Elbow Curve\")\n",
    "pl.show()"
   ]
  },
  {
   "cell_type": "code",
   "execution_count": 42,
   "metadata": {},
   "outputs": [
    {
     "data": {
      "image/png": "[encoded data removed]",
      "text/plain": [
       "<Figure size 432x288 with 1 Axes>"
      ]
     },
     "metadata": {
      "needs_background": "light"
     },
     "output_type": "display_data"
    }
   ],
   "source": [
    "# Plotting clusters\n",
    "\n",
    "kmeans = KMeans(n_clusters = 5).fit(X)\n",
    "centroids = kmeans.cluster_centers_\n",
    "pl.scatter(X[:,0], X[:,1],c = kmeans.labels_,cmap=\"rainbow\")\n",
    "pl.show()"
   ]
  },
  {
   "cell_type": "code",
   "execution_count": 43,
   "metadata": {},
   "outputs": [
    {
     "name": "stdout",
     "output_type": "stream",
     "text": [
      "[[ 0.02536669  0.36256986]\n",
      " [-0.27530525  0.46869444]\n",
      " [ 0.4617498   0.49828267]\n",
      " [ 0.28946669  0.41459447]\n",
      " [-0.05811569  0.64113457]]\n"
     ]
    },
    {
     "data": {
      "text/html": [
       "<div>\n",
       "<style scoped>\n",
       "    .dataframe tbody tr th:only-of-type {\n",
       "        vertical-align: middle;\n",
       "    }\n",
       "\n",
       "    .dataframe tbody tr th {\n",
       "        vertical-align: top;\n",
       "    }\n",
       "\n",
       "    .dataframe thead th {\n",
       "        text-align: right;\n",
       "    }\n",
       "</style>\n",
       "<table border=\"1\" class=\"dataframe\">\n",
       "  <thead>\n",
       "    <tr style=\"text-align: right;\">\n",
       "      <th></th>\n",
       "      <th>Group</th>\n",
       "    </tr>\n",
       "    <tr>\n",
       "      <th>Name</th>\n",
       "      <th></th>\n",
       "    </tr>\n",
       "  </thead>\n",
       "  <tbody>\n",
       "    <tr>\n",
       "      <th>AT&amp;T Inc-</th>\n",
       "      <td>1</td>\n",
       "    </tr>\n",
       "    <tr>\n",
       "      <th>Activision Blizzard</th>\n",
       "      <td>3</td>\n",
       "    </tr>\n",
       "    <tr>\n",
       "      <th>Alphabet Inc- (Class A)</th>\n",
       "      <td>3</td>\n",
       "    </tr>\n",
       "    <tr>\n",
       "      <th>Alphabet Inc- (Class C)</th>\n",
       "      <td>3</td>\n",
       "    </tr>\n",
       "    <tr>\n",
       "      <th>Charter Communications</th>\n",
       "      <td>3</td>\n",
       "    </tr>\n",
       "  </tbody>\n",
       "</table>\n",
       "</div>"
      ],
      "text/plain": [
       "                         Group\n",
       "Name                          \n",
       "AT&T Inc-                    1\n",
       "Activision Blizzard          3\n",
       "Alphabet Inc- (Class A)      3\n",
       "Alphabet Inc- (Class C)      3\n",
       "Charter Communications       3"
      ]
     },
     "execution_count": 43,
     "metadata": {},
     "output_type": "execute_result"
    }
   ],
   "source": [
    "# Creating dataframe with companies and corresponding cluster\n",
    "\n",
    "print(centroids)\n",
    "\n",
    "Company = pd.DataFrame(clusters.index)\n",
    "cluster_labels = pd.DataFrame(kmeans.labels_)\n",
    "df=pd.concat([Company,cluster_labels],axis=1)\n",
    "df.columns = [\"Name\",\"Group\"]\n",
    "df=df.set_index(['Name'])\n",
    "df.head()"
   ]
  },
  {
   "cell_type": "code",
   "execution_count": 44,
   "metadata": {},
   "outputs": [],
   "source": [
    "#Dataset for visualization\n",
    "\n",
    "combined = pd.concat([(clusters), (df)], \n",
    "                      axis = 'columns', join = 'inner')\n",
    "combined.head()\n",
    "combined.to_csv (r'..\\data-analysis\\communication_services_groups.csv',header=True)"
   ]
  },
  {
   "cell_type": "code",
   "execution_count": 45,
   "metadata": {},
   "outputs": [
    {
     "data": {
      "text/html": [
       "<div>\n",
       "<style scoped>\n",
       "    .dataframe tbody tr th:only-of-type {\n",
       "        vertical-align: middle;\n",
       "    }\n",
       "\n",
       "    .dataframe tbody tr th {\n",
       "        vertical-align: top;\n",
       "    }\n",
       "\n",
       "    .dataframe thead th {\n",
       "        text-align: right;\n",
       "    }\n",
       "</style>\n",
       "<table border=\"1\" class=\"dataframe\">\n",
       "  <thead>\n",
       "    <tr style=\"text-align: right;\">\n",
       "      <th></th>\n",
       "      <th>GICS Sub-Industry</th>\n",
       "      <th>returns</th>\n",
       "      <th>variances</th>\n",
       "    </tr>\n",
       "    <tr>\n",
       "      <th>Name</th>\n",
       "      <th></th>\n",
       "      <th></th>\n",
       "      <th></th>\n",
       "    </tr>\n",
       "  </thead>\n",
       "  <tbody>\n",
       "    <tr>\n",
       "      <th>ANSYS</th>\n",
       "      <td>Application Software</td>\n",
       "      <td>0.333430</td>\n",
       "      <td>0.455496</td>\n",
       "    </tr>\n",
       "    <tr>\n",
       "      <th>Accenture plc</th>\n",
       "      <td>IT Consulting &amp; Other Services</td>\n",
       "      <td>0.205789</td>\n",
       "      <td>0.408696</td>\n",
       "    </tr>\n",
       "    <tr>\n",
       "      <th>Adobe Inc-</th>\n",
       "      <td>Application Software</td>\n",
       "      <td>0.455913</td>\n",
       "      <td>0.477916</td>\n",
       "    </tr>\n",
       "    <tr>\n",
       "      <th>Advanced Micro Devices Inc</th>\n",
       "      <td>Semiconductors</td>\n",
       "      <td>0.747528</td>\n",
       "      <td>0.612498</td>\n",
       "    </tr>\n",
       "    <tr>\n",
       "      <th>Akamai Technologies Inc</th>\n",
       "      <td>Internet Services &amp; Infrastructure</td>\n",
       "      <td>0.146318</td>\n",
       "      <td>0.384187</td>\n",
       "    </tr>\n",
       "  </tbody>\n",
       "</table>\n",
       "</div>"
      ],
      "text/plain": [
       "                                             GICS Sub-Industry   returns  \\\n",
       "Name                                                                       \n",
       "ANSYS                                     Application Software  0.333430   \n",
       "Accenture plc                   IT Consulting & Other Services  0.205789   \n",
       "Adobe Inc-                                Application Software  0.455913   \n",
       "Advanced Micro Devices Inc                      Semiconductors  0.747528   \n",
       "Akamai Technologies Inc     Internet Services & Infrastructure  0.146318   \n",
       "\n",
       "                            variances  \n",
       "Name                                   \n",
       "ANSYS                        0.455496  \n",
       "Accenture plc                0.408696  \n",
       "Adobe Inc-                   0.477916  \n",
       "Advanced Micro Devices Inc   0.612498  \n",
       "Akamai Technologies Inc      0.384187  "
      ]
     },
     "execution_count": 45,
     "metadata": {},
     "output_type": "execute_result"
    }
   ],
   "source": [
    "#Cluster analysis for Technology\n",
    "sptech = spsec[spsec['GICS Sector']=='Information Technology']\n",
    "\n",
    "sptech.head()\n",
    "\n",
    "#Calculating annual returns and variances\n",
    "returns = sptech.groupby(['Name', 'GICS Sub-Industry']).mean()*252\n",
    "variances = sptech.groupby(['Name', 'GICS Sub-Industry']).std()*sqrt(252)\n",
    "\n",
    "returns = returns['Log Return']\n",
    "variances = variances['Log Return']\n",
    "\n",
    "clusters = pd.concat([(returns), (variances)], \n",
    "                      axis = 'columns', join = 'inner')\n",
    "\n",
    "clusters.columns = [\"returns\", \"variances\"]\n",
    "\n",
    "clusters=clusters.reset_index()\n",
    "clusters = clusters.set_index('Name')\n",
    "\n",
    "clusters.head()\n"
   ]
  },
  {
   "cell_type": "code",
   "execution_count": 46,
   "metadata": {},
   "outputs": [
    {
     "data": {
      "image/png": "[encoded data removed]",
      "text/plain": [
       "<Figure size 432x288 with 1 Axes>"
      ]
     },
     "metadata": {
      "needs_background": "light"
     },
     "output_type": "display_data"
    }
   ],
   "source": [
    "# Determining number of clusters\n",
    "\n",
    "X= clusters[['returns', 'variances']].values #converting into numpy array\n",
    "sse =[]\n",
    "for k in range (2,15):\n",
    "    kmeans = KMeans(n_clusters = k)\n",
    "    kmeans.fit(X)\n",
    "    sse.append(kmeans.inertia_)\n",
    "    \n",
    "pl.plot(range(2,15),sse)\n",
    "pl.title(\"Elbow Curve\")\n",
    "pl.show()"
   ]
  },
  {
   "cell_type": "code",
   "execution_count": 47,
   "metadata": {},
   "outputs": [
    {
     "data": {
      "image/png": "[encoded data removed]",
      "text/plain": [
       "<Figure size 432x288 with 1 Axes>"
      ]
     },
     "metadata": {
      "needs_background": "light"
     },
     "output_type": "display_data"
    }
   ],
   "source": [
    "# Plotting clusters\n",
    "\n",
    "kmeans = KMeans(n_clusters = 4).fit(X)\n",
    "centroids = kmeans.cluster_centers_\n",
    "pl.scatter(X[:,0], X[:,1],c = kmeans.labels_,cmap=\"rainbow\")\n",
    "pl.show()"
   ]
  },
  {
   "cell_type": "code",
   "execution_count": 48,
   "metadata": {},
   "outputs": [
    {
     "name": "stdout",
     "output_type": "stream",
     "text": [
      "[[ 2.55304409e-01  4.85525478e-01]\n",
      " [-3.56545338e-01  6.08867086e-01]\n",
      " [ 5.49050754e-01  5.27562067e-01]\n",
      " [ 2.92546398e-04  4.49117064e-01]]\n"
     ]
    },
    {
     "data": {
      "text/html": [
       "<div>\n",
       "<style scoped>\n",
       "    .dataframe tbody tr th:only-of-type {\n",
       "        vertical-align: middle;\n",
       "    }\n",
       "\n",
       "    .dataframe tbody tr th {\n",
       "        vertical-align: top;\n",
       "    }\n",
       "\n",
       "    .dataframe thead th {\n",
       "        text-align: right;\n",
       "    }\n",
       "</style>\n",
       "<table border=\"1\" class=\"dataframe\">\n",
       "  <thead>\n",
       "    <tr style=\"text-align: right;\">\n",
       "      <th></th>\n",
       "      <th>Group</th>\n",
       "    </tr>\n",
       "    <tr>\n",
       "      <th>Name</th>\n",
       "      <th></th>\n",
       "    </tr>\n",
       "  </thead>\n",
       "  <tbody>\n",
       "    <tr>\n",
       "      <th>ANSYS</th>\n",
       "      <td>0</td>\n",
       "    </tr>\n",
       "    <tr>\n",
       "      <th>Accenture plc</th>\n",
       "      <td>0</td>\n",
       "    </tr>\n",
       "    <tr>\n",
       "      <th>Adobe Inc-</th>\n",
       "      <td>2</td>\n",
       "    </tr>\n",
       "    <tr>\n",
       "      <th>Advanced Micro Devices Inc</th>\n",
       "      <td>2</td>\n",
       "    </tr>\n",
       "    <tr>\n",
       "      <th>Akamai Technologies Inc</th>\n",
       "      <td>0</td>\n",
       "    </tr>\n",
       "  </tbody>\n",
       "</table>\n",
       "</div>"
      ],
      "text/plain": [
       "                            Group\n",
       "Name                             \n",
       "ANSYS                           0\n",
       "Accenture plc                   0\n",
       "Adobe Inc-                      2\n",
       "Advanced Micro Devices Inc      2\n",
       "Akamai Technologies Inc         0"
      ]
     },
     "execution_count": 48,
     "metadata": {},
     "output_type": "execute_result"
    }
   ],
   "source": [
    "# Creating dataframe with companies and corresponding cluster\n",
    "\n",
    "print(centroids)\n",
    "\n",
    "Company = pd.DataFrame(clusters.index)\n",
    "cluster_labels = pd.DataFrame(kmeans.labels_)\n",
    "df=pd.concat([Company,cluster_labels],axis=1)\n",
    "df.columns = [\"Name\",\"Group\"]\n",
    "df=df.set_index(['Name'])\n",
    "df.head()"
   ]
  },
  {
   "cell_type": "code",
   "execution_count": 49,
   "metadata": {},
   "outputs": [],
   "source": [
    "#Dataset for visualization\n",
    "\n",
    "combined = pd.concat([(clusters), (df)], \n",
    "                      axis = 'columns', join = 'inner')\n",
    "combined.head()\n",
    "combined.to_csv (r'..\\data-analysis\\information_technology_groups.csv',header=True)"
   ]
  },
  {
   "cell_type": "code",
   "execution_count": 50,
   "metadata": {},
   "outputs": [
    {
     "data": {
      "text/html": [
       "<div>\n",
       "<style scoped>\n",
       "    .dataframe tbody tr th:only-of-type {\n",
       "        vertical-align: middle;\n",
       "    }\n",
       "\n",
       "    .dataframe tbody tr th {\n",
       "        vertical-align: top;\n",
       "    }\n",
       "\n",
       "    .dataframe thead th {\n",
       "        text-align: right;\n",
       "    }\n",
       "</style>\n",
       "<table border=\"1\" class=\"dataframe\">\n",
       "  <thead>\n",
       "    <tr style=\"text-align: right;\">\n",
       "      <th></th>\n",
       "      <th>GICS Sub-Industry</th>\n",
       "      <th>returns</th>\n",
       "      <th>variances</th>\n",
       "    </tr>\n",
       "    <tr>\n",
       "      <th>Name</th>\n",
       "      <th></th>\n",
       "      <th></th>\n",
       "      <th></th>\n",
       "    </tr>\n",
       "  </thead>\n",
       "  <tbody>\n",
       "    <tr>\n",
       "      <th>ABIOMED Inc</th>\n",
       "      <td>Health Care Equipment</td>\n",
       "      <td>0.197967</td>\n",
       "      <td>0.513864</td>\n",
       "    </tr>\n",
       "    <tr>\n",
       "      <th>AbbVie Inc-</th>\n",
       "      <td>Pharmaceuticals</td>\n",
       "      <td>0.111053</td>\n",
       "      <td>0.348419</td>\n",
       "    </tr>\n",
       "    <tr>\n",
       "      <th>Abbott Laboratories</th>\n",
       "      <td>Health Care Equipment</td>\n",
       "      <td>0.272872</td>\n",
       "      <td>0.389917</td>\n",
       "    </tr>\n",
       "    <tr>\n",
       "      <th>Agilent Technologies Inc</th>\n",
       "      <td>Health Care Equipment</td>\n",
       "      <td>0.341988</td>\n",
       "      <td>0.361440</td>\n",
       "    </tr>\n",
       "    <tr>\n",
       "      <th>Alexion Pharmaceuticals</th>\n",
       "      <td>Biotechnology</td>\n",
       "      <td>0.164602</td>\n",
       "      <td>0.405905</td>\n",
       "    </tr>\n",
       "  </tbody>\n",
       "</table>\n",
       "</div>"
      ],
      "text/plain": [
       "                              GICS Sub-Industry   returns  variances\n",
       "Name                                                                \n",
       "ABIOMED Inc               Health Care Equipment  0.197967   0.513864\n",
       "AbbVie Inc-                     Pharmaceuticals  0.111053   0.348419\n",
       "Abbott Laboratories       Health Care Equipment  0.272872   0.389917\n",
       "Agilent Technologies Inc  Health Care Equipment  0.341988   0.361440\n",
       "Alexion Pharmaceuticals           Biotechnology  0.164602   0.405905"
      ]
     },
     "execution_count": 50,
     "metadata": {},
     "output_type": "execute_result"
    }
   ],
   "source": [
    "#Cluster analysis for Health Care\n",
    "sphealth = spsec[spsec['GICS Sector']=='Health Care']\n",
    "\n",
    "sphealth.head()\n",
    "\n",
    "#Calculating annual returns and variances\n",
    "returns = sphealth.groupby(['Name', 'GICS Sub-Industry']).mean()*252\n",
    "variances = sphealth.groupby(['Name', 'GICS Sub-Industry']).std()*sqrt(252)\n",
    "\n",
    "returns = returns['Log Return']\n",
    "variances = variances['Log Return']\n",
    "\n",
    "clusters = pd.concat([(returns), (variances)], \n",
    "                      axis = 'columns', join = 'inner')\n",
    "\n",
    "clusters.columns = [\"returns\", \"variances\"]\n",
    "\n",
    "clusters=clusters.reset_index()\n",
    "clusters = clusters.set_index('Name')\n",
    "\n",
    "clusters.head()\n"
   ]
  },
  {
   "cell_type": "code",
   "execution_count": 51,
   "metadata": {},
   "outputs": [
    {
     "data": {
      "image/png": "[encoded data removed]",
      "text/plain": [
       "<Figure size 432x288 with 1 Axes>"
      ]
     },
     "metadata": {
      "needs_background": "light"
     },
     "output_type": "display_data"
    }
   ],
   "source": [
    "# Determining number of clusters\n",
    "\n",
    "X= clusters[['returns', 'variances']].values #converting into numpy array\n",
    "sse =[]\n",
    "for k in range (2,15):\n",
    "    kmeans = KMeans(n_clusters = k)\n",
    "    kmeans.fit(X)\n",
    "    sse.append(kmeans.inertia_)\n",
    "    \n",
    "pl.plot(range(2,15),sse)\n",
    "pl.title(\"Elbow Curve\")\n",
    "pl.show()"
   ]
  },
  {
   "cell_type": "code",
   "execution_count": 52,
   "metadata": {},
   "outputs": [
    {
     "data": {
      "image/png": "[encoded data removed]",
      "text/plain": [
       "<Figure size 432x288 with 1 Axes>"
      ]
     },
     "metadata": {
      "needs_background": "light"
     },
     "output_type": "display_data"
    }
   ],
   "source": [
    "# Plotting clusters\n",
    "\n",
    "kmeans = KMeans(n_clusters = 4).fit(X)\n",
    "centroids = kmeans.cluster_centers_\n",
    "pl.scatter(X[:,0], X[:,1],c = kmeans.labels_,cmap=\"rainbow\")\n",
    "pl.show()"
   ]
  },
  {
   "cell_type": "code",
   "execution_count": 53,
   "metadata": {},
   "outputs": [
    {
     "name": "stdout",
     "output_type": "stream",
     "text": [
      "[[0.53585094 0.44509782]\n",
      " [0.07503939 0.54722959]\n",
      " [0.27313588 0.43264981]\n",
      " [0.00710634 0.39504316]]\n"
     ]
    },
    {
     "data": {
      "text/html": [
       "<div>\n",
       "<style scoped>\n",
       "    .dataframe tbody tr th:only-of-type {\n",
       "        vertical-align: middle;\n",
       "    }\n",
       "\n",
       "    .dataframe tbody tr th {\n",
       "        vertical-align: top;\n",
       "    }\n",
       "\n",
       "    .dataframe thead th {\n",
       "        text-align: right;\n",
       "    }\n",
       "</style>\n",
       "<table border=\"1\" class=\"dataframe\">\n",
       "  <thead>\n",
       "    <tr style=\"text-align: right;\">\n",
       "      <th></th>\n",
       "      <th>Group</th>\n",
       "    </tr>\n",
       "    <tr>\n",
       "      <th>Name</th>\n",
       "      <th></th>\n",
       "    </tr>\n",
       "  </thead>\n",
       "  <tbody>\n",
       "    <tr>\n",
       "      <th>ABIOMED Inc</th>\n",
       "      <td>2</td>\n",
       "    </tr>\n",
       "    <tr>\n",
       "      <th>AbbVie Inc-</th>\n",
       "      <td>3</td>\n",
       "    </tr>\n",
       "    <tr>\n",
       "      <th>Abbott Laboratories</th>\n",
       "      <td>2</td>\n",
       "    </tr>\n",
       "    <tr>\n",
       "      <th>Agilent Technologies Inc</th>\n",
       "      <td>2</td>\n",
       "    </tr>\n",
       "    <tr>\n",
       "      <th>Alexion Pharmaceuticals</th>\n",
       "      <td>2</td>\n",
       "    </tr>\n",
       "  </tbody>\n",
       "</table>\n",
       "</div>"
      ],
      "text/plain": [
       "                          Group\n",
       "Name                           \n",
       "ABIOMED Inc                   2\n",
       "AbbVie Inc-                   3\n",
       "Abbott Laboratories           2\n",
       "Agilent Technologies Inc      2\n",
       "Alexion Pharmaceuticals       2"
      ]
     },
     "execution_count": 53,
     "metadata": {},
     "output_type": "execute_result"
    }
   ],
   "source": [
    "# Creating dataframe with companies and corresponding cluster\n",
    "\n",
    "print(centroids)\n",
    "\n",
    "Company = pd.DataFrame(clusters.index)\n",
    "cluster_labels = pd.DataFrame(kmeans.labels_)\n",
    "df=pd.concat([Company,cluster_labels],axis=1)\n",
    "df.columns = [\"Name\",\"Group\"]\n",
    "df=df.set_index(['Name'])\n",
    "df.head()"
   ]
  },
  {
   "cell_type": "code",
   "execution_count": 54,
   "metadata": {},
   "outputs": [],
   "source": [
    "#Dataset for visualization\n",
    "\n",
    "combined = pd.concat([(clusters), (df)], \n",
    "                      axis = 'columns', join = 'inner')\n",
    "combined.head()\n",
    "combined.to_csv (r'..\\data-analysis\\health_care_groups.csv',header=True)"
   ]
  },
  {
   "cell_type": "code",
   "execution_count": 55,
   "metadata": {},
   "outputs": [
    {
     "data": {
      "text/html": [
       "<div>\n",
       "<style scoped>\n",
       "    .dataframe tbody tr th:only-of-type {\n",
       "        vertical-align: middle;\n",
       "    }\n",
       "\n",
       "    .dataframe tbody tr th {\n",
       "        vertical-align: top;\n",
       "    }\n",
       "\n",
       "    .dataframe thead th {\n",
       "        text-align: right;\n",
       "    }\n",
       "</style>\n",
       "<table border=\"1\" class=\"dataframe\">\n",
       "  <thead>\n",
       "    <tr style=\"text-align: right;\">\n",
       "      <th></th>\n",
       "      <th>GICS Sub-Industry</th>\n",
       "      <th>returns</th>\n",
       "      <th>variances</th>\n",
       "    </tr>\n",
       "    <tr>\n",
       "      <th>Name</th>\n",
       "      <th></th>\n",
       "      <th></th>\n",
       "      <th></th>\n",
       "    </tr>\n",
       "  </thead>\n",
       "  <tbody>\n",
       "    <tr>\n",
       "      <th>AFLAC Inc</th>\n",
       "      <td>Life &amp; Health Insurance</td>\n",
       "      <td>-0.270189</td>\n",
       "      <td>0.574550</td>\n",
       "    </tr>\n",
       "    <tr>\n",
       "      <th>Allstate Corp</th>\n",
       "      <td>Property &amp; Casualty Insurance</td>\n",
       "      <td>-0.138714</td>\n",
       "      <td>0.431883</td>\n",
       "    </tr>\n",
       "    <tr>\n",
       "      <th>American Express Co</th>\n",
       "      <td>Consumer Finance</td>\n",
       "      <td>-0.048960</td>\n",
       "      <td>0.626504</td>\n",
       "    </tr>\n",
       "    <tr>\n",
       "      <th>American International Group</th>\n",
       "      <td>Property &amp; Casualty Insurance</td>\n",
       "      <td>-0.368158</td>\n",
       "      <td>0.715119</td>\n",
       "    </tr>\n",
       "    <tr>\n",
       "      <th>Ameriprise Financial</th>\n",
       "      <td>Asset Management &amp; Custody Banks</td>\n",
       "      <td>0.143471</td>\n",
       "      <td>0.689150</td>\n",
       "    </tr>\n",
       "  </tbody>\n",
       "</table>\n",
       "</div>"
      ],
      "text/plain": [
       "                                             GICS Sub-Industry   returns  \\\n",
       "Name                                                                       \n",
       "AFLAC Inc                              Life & Health Insurance -0.270189   \n",
       "Allstate Corp                    Property & Casualty Insurance -0.138714   \n",
       "American Express Co                           Consumer Finance -0.048960   \n",
       "American International Group     Property & Casualty Insurance -0.368158   \n",
       "Ameriprise Financial          Asset Management & Custody Banks  0.143471   \n",
       "\n",
       "                              variances  \n",
       "Name                                     \n",
       "AFLAC Inc                      0.574550  \n",
       "Allstate Corp                  0.431883  \n",
       "American Express Co            0.626504  \n",
       "American International Group   0.715119  \n",
       "Ameriprise Financial           0.689150  "
      ]
     },
     "execution_count": 55,
     "metadata": {},
     "output_type": "execute_result"
    }
   ],
   "source": [
    "#Cluster analysis for Financial Services\n",
    "spfin = spsec[spsec['GICS Sector']=='Financials']\n",
    "\n",
    "spfin.head()\n",
    "\n",
    "#Calculating annual returns and variances\n",
    "returns = spfin.groupby(['Name', 'GICS Sub-Industry']).mean()*252\n",
    "variances = spfin.groupby(['Name', 'GICS Sub-Industry']).std()*sqrt(252)\n",
    "\n",
    "returns = returns['Log Return']\n",
    "variances = variances['Log Return']\n",
    "\n",
    "clusters = pd.concat([(returns), (variances)], \n",
    "                      axis = 'columns', join = 'inner')\n",
    "\n",
    "clusters.columns = [\"returns\", \"variances\"]\n",
    "\n",
    "clusters=clusters.reset_index()\n",
    "clusters = clusters.set_index('Name')\n",
    "\n",
    "clusters.head()"
   ]
  },
  {
   "cell_type": "code",
   "execution_count": 56,
   "metadata": {},
   "outputs": [
    {
     "data": {
      "image/png": "[encoded data removed]",
      "text/plain": [
       "<Figure size 432x288 with 1 Axes>"
      ]
     },
     "metadata": {
      "needs_background": "light"
     },
     "output_type": "display_data"
    }
   ],
   "source": [
    "# Determining number of clusters\n",
    "\n",
    "X= clusters[['returns', 'variances']].values #converting into numpy array\n",
    "sse =[]\n",
    "for k in range (2,15):\n",
    "    kmeans = KMeans(n_clusters = k)\n",
    "    kmeans.fit(X)\n",
    "    sse.append(kmeans.inertia_)\n",
    "    \n",
    "pl.plot(range(2,15),sse)\n",
    "pl.title(\"Elbow Curve\")\n",
    "pl.show()"
   ]
  },
  {
   "cell_type": "code",
   "execution_count": 57,
   "metadata": {},
   "outputs": [
    {
     "data": {
      "image/png": "[encoded data removed]",
      "text/plain": [
       "<Figure size 432x288 with 1 Axes>"
      ]
     },
     "metadata": {
      "needs_background": "light"
     },
     "output_type": "display_data"
    }
   ],
   "source": [
    "# Plotting clusters\n",
    "\n",
    "kmeans = KMeans(n_clusters = 5).fit(X)\n",
    "centroids = kmeans.cluster_centers_\n",
    "pl.scatter(X[:,0], X[:,1],c = kmeans.labels_,cmap=\"rainbow\")\n",
    "pl.show()"
   ]
  },
  {
   "cell_type": "code",
   "execution_count": 58,
   "metadata": {},
   "outputs": [
    {
     "name": "stdout",
     "output_type": "stream",
     "text": [
      "[[-0.22692742  0.57235469]\n",
      " [ 0.2525014   0.49667066]\n",
      " [-0.23565796  0.75870466]\n",
      " [-0.00157675  0.47681141]\n",
      " [-0.80430721  0.59903428]]\n"
     ]
    },
    {
     "data": {
      "text/html": [
       "<div>\n",
       "<style scoped>\n",
       "    .dataframe tbody tr th:only-of-type {\n",
       "        vertical-align: middle;\n",
       "    }\n",
       "\n",
       "    .dataframe tbody tr th {\n",
       "        vertical-align: top;\n",
       "    }\n",
       "\n",
       "    .dataframe thead th {\n",
       "        text-align: right;\n",
       "    }\n",
       "</style>\n",
       "<table border=\"1\" class=\"dataframe\">\n",
       "  <thead>\n",
       "    <tr style=\"text-align: right;\">\n",
       "      <th></th>\n",
       "      <th>Group</th>\n",
       "    </tr>\n",
       "    <tr>\n",
       "      <th>Name</th>\n",
       "      <th></th>\n",
       "    </tr>\n",
       "  </thead>\n",
       "  <tbody>\n",
       "    <tr>\n",
       "      <th>AFLAC Inc</th>\n",
       "      <td>0</td>\n",
       "    </tr>\n",
       "    <tr>\n",
       "      <th>Allstate Corp</th>\n",
       "      <td>3</td>\n",
       "    </tr>\n",
       "    <tr>\n",
       "      <th>American Express Co</th>\n",
       "      <td>3</td>\n",
       "    </tr>\n",
       "    <tr>\n",
       "      <th>American International Group</th>\n",
       "      <td>2</td>\n",
       "    </tr>\n",
       "    <tr>\n",
       "      <th>Ameriprise Financial</th>\n",
       "      <td>1</td>\n",
       "    </tr>\n",
       "  </tbody>\n",
       "</table>\n",
       "</div>"
      ],
      "text/plain": [
       "                              Group\n",
       "Name                               \n",
       "AFLAC Inc                         0\n",
       "Allstate Corp                     3\n",
       "American Express Co               3\n",
       "American International Group      2\n",
       "Ameriprise Financial              1"
      ]
     },
     "execution_count": 58,
     "metadata": {},
     "output_type": "execute_result"
    }
   ],
   "source": [
    "# Creating dataframe with companies and corresponding cluster\n",
    "\n",
    "print(centroids)\n",
    "\n",
    "Company = pd.DataFrame(clusters.index)\n",
    "cluster_labels = pd.DataFrame(kmeans.labels_)\n",
    "df=pd.concat([Company,cluster_labels],axis=1)\n",
    "df.columns = [\"Name\",\"Group\"]\n",
    "df=df.set_index(['Name'])\n",
    "df.head()"
   ]
  },
  {
   "cell_type": "code",
   "execution_count": 59,
   "metadata": {},
   "outputs": [],
   "source": [
    "#Dataset for visualization\n",
    "\n",
    "combined = pd.concat([(clusters), (df)], \n",
    "                      axis = 'columns', join = 'inner')\n",
    "combined.head()\n",
    "combined.to_csv (r'..\\data-analysis\\financial_services_groups.csv',header=True)"
   ]
  },
  {
   "cell_type": "code",
   "execution_count": null,
   "metadata": {},
   "outputs": [],
   "source": []
  },
  {
   "cell_type": "code",
   "execution_count": null,
   "metadata": {},
   "outputs": [],
   "source": []
  }
 ],
 "metadata": {
  "kernelspec": {
   "display_name": "Python 3",
   "language": "python",
   "name": "python3"
  },
  "language_info": {
   "codemirror_mode": {
    "name": "ipython",
    "version": 3
   },
   "file_extension": ".py",
   "mimetype": "text/x-python",
   "name": "python",
   "nbconvert_exporter": "python",
   "pygments_lexer": "ipython3",
   "version": "3.7.6"
  }
 },
 "nbformat": 4,
 "nbformat_minor": 4
}
